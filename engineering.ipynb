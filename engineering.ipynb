{
 "cells": [
  {
   "cell_type": "markdown",
   "metadata": {
    "id": "xGHumxd0waCJ"
   },
   "source": [
    "### Clustering"
   ]
  },
  {
   "cell_type": "code",
   "execution_count": 1,
   "metadata": {
    "id": "J2M6vIMZwaCN",
    "executionInfo": {
     "status": "ok",
     "timestamp": 1647431406838,
     "user_tz": -180,
     "elapsed": 1768,
     "user": {
      "displayName": "Владимир Телепов",
      "photoUrl": "https://lh3.googleusercontent.com/a/default-user=s64",
      "userId": "17267156791105149043"
     }
    }
   },
   "outputs": [],
   "source": [
    "import re\n",
    "import random\n",
    "import spacy\n",
    "import numpy as np\n",
    "import itertools\n",
    "import collections\n",
    "import functools\n",
    "import operator\n",
    "import dill as pickle\n",
    "from nltk.corpus import stopwords\n",
    "import matplotlib.pyplot as plt\n",
    "import sys\n",
    "\n",
    "sys.setrecursionlimit(3000)\n",
    "random.seed(42)"
   ]
  },
  {
   "cell_type": "markdown",
   "source": [
    "Load data"
   ],
   "metadata": {
    "collapsed": false
   }
  },
  {
   "cell_type": "code",
   "execution_count": 2,
   "outputs": [
    {
     "name": "stdout",
     "output_type": "stream",
     "text": [
      "#funcs=3539588\n",
      "funcs:\n",
      "Inu_scaled\n",
      "default_response_type\n",
      "ComputeNewDominator\n",
      "set_cost_graph\n",
      "freednsentry\n",
      "ti_vsend_sync\n",
      "k3_dma_probe\n",
      "CRYP_DataOut\n",
      "hblank_dma\n",
      "test_unset_flag\n",
      "\n",
      "sorted:\n",
      "$$RTX$$version\n",
      "$$USBD$$version\n",
      "$relaytrace$StdcallFunction\n",
      "$relaytrace$StdcallVersionRange\n",
      "$relaytrace$Stdcalli386x64\n",
      "A\n",
      "A\n",
      "A\n",
      "A\n",
      "A\n"
     ]
    }
   ],
   "source": [
    "def load_data(path):\n",
    "    func_names = []\n",
    "    func_types = []\n",
    "    func_comments = []\n",
    "    with open(path, \"r\") as file:\n",
    "        for name, types, comments in (x for x in map(lambda l: l.strip().split(\"|\"), file.readlines()) if len(x) == 3):\n",
    "            func_types.append(types.split(\",\"))\n",
    "            func_comments.append(comments.split(\",\"))\n",
    "            func_names.append(name)\n",
    "    return func_names, func_types, func_comments\n",
    "\n",
    "def printk(funcs, k=10, show_sort=True, nmap=None, rand=False):\n",
    "    print(f\"#funcs={len(funcs)}\\nfuncs:\")\n",
    "    indices = random.choices(range(len(funcs)), k=k) if rand else range(k)\n",
    "    print(*((funcs[i], nmap[funcs[i]]) if nmap else funcs[i] for i in indices), sep='\\n')\n",
    "    if show_sort:\n",
    "        print(\"\\nsorted:\", *((f, nmap[f]) if nmap else f for f, _ in zip(sorted(funcs), range(k))), sep='\\n')\n",
    "\n",
    "func_names, func_types, func_comments = load_data(\"functions.txt\")\n",
    "printk(func_names)"
   ],
   "metadata": {
    "collapsed": false,
    "pycharm": {
     "name": "#%%\n"
    }
   }
  },
  {
   "cell_type": "markdown",
   "metadata": {
    "id": "ghJoI_otwaCQ"
   },
   "source": [
    "Drop wrong names"
   ]
  },
  {
   "cell_type": "code",
   "execution_count": 3,
   "metadata": {
    "id": "OT1ZP5J_waCR",
    "executionInfo": {
     "status": "ok",
     "timestamp": 1647431419027,
     "user_tz": -180,
     "elapsed": 30,
     "user": {
      "displayName": "Владимир Телепов",
      "photoUrl": "https://lh3.googleusercontent.com/a/default-user=s64",
      "userId": "17267156791105149043"
     }
    }
   },
   "outputs": [
    {
     "name": "stdout",
     "output_type": "stream",
     "text": [
      "#funcs=3521880\n",
      "funcs:\n",
      "Inu_scaled\n",
      "default_response_type\n",
      "ComputeNewDominator\n",
      "set_cost_graph\n",
      "freednsentry\n",
      "ti_vsend_sync\n",
      "k3_dma_probe\n",
      "CRYP_DataOut\n",
      "hblank_dma\n",
      "test_unset_flag\n",
      "\n",
      "sorted:\n",
      "A\n",
      "A\n",
      "A\n",
      "A\n",
      "A\n",
      "A\n",
      "A\n",
      "A\n",
      "A\n",
      "A\n"
     ]
    }
   ],
   "source": [
    "def drop_wrong_names(func_names, func_types, func_comments):\n",
    "    re_ident = re.compile(rf\"^[a-zA-Z_][a-zA-Z_0-9]*$\", re.UNICODE)\n",
    "    func_names, func_types, func_comments = map(\n",
    "        list, zip(*(itertools.filterfalse(lambda x: not re_ident.fullmatch(x[0]),\n",
    "                                          zip(func_names, func_types, func_comments)))))\n",
    "    return func_names, func_types, func_comments\n",
    "\n",
    "func_names, func_types, func_comments = drop_wrong_names(func_names, func_types, func_comments)\n",
    "printk(func_names)"
   ]
  },
  {
   "cell_type": "markdown",
   "metadata": {
    "id": "3nh-rRMawaCR"
   },
   "source": [
    "Split names to tokens"
   ]
  },
  {
   "cell_type": "code",
   "execution_count": 4,
   "metadata": {
    "id": "UYgLL0tVwaCS",
    "executionInfo": {
     "status": "ok",
     "timestamp": 1647431419028,
     "user_tz": -180,
     "elapsed": 29,
     "user": {
      "displayName": "Владимир Телепов",
      "photoUrl": "https://lh3.googleusercontent.com/a/default-user=s64",
      "userId": "17267156791105149043"
     }
    }
   },
   "outputs": [
    {
     "name": "stdout",
     "output_type": "stream",
     "text": [
      "#funcs=3521880\n",
      "funcs:\n",
      "('smtp_get_field', ['smtp', 'get', 'field'])\n",
      "('set', ['set'])\n",
      "('freq_rank', ['freq', 'rank'])\n",
      "('dissect_mms_T_reportSemaphoreEntryStatus_Request_state', ['dissect', 'mms', 'T', 'reportSemaphoreEntryStatus', 'Request', 'state'])\n",
      "('group_call', ['group', 'call'])\n",
      "('dissect_rrc_UL_CommonTransChInfo_r4', ['dissect', 'rrc', 'UL', 'CommonTransChInfo', 'r4'])\n",
      "('deserialize_type', ['deserialize', 'type'])\n",
      "('devmem_destroy', ['devmem', 'destroy'])\n",
      "('ngx_kqueue_set_event', ['ngx', 'kqueue', 'set', 'event'])\n",
      "('imm7', ['imm7'])\n",
      "\n",
      "sorted:\n",
      "('A', ['A'])\n",
      "('A', ['A'])\n",
      "('A', ['A'])\n",
      "('A', ['A'])\n",
      "('A', ['A'])\n",
      "('A', ['A'])\n",
      "('A', ['A'])\n",
      "('A', ['A'])\n",
      "('A', ['A'])\n",
      "('A', ['A'])\n"
     ]
    }
   ],
   "source": [
    "def tokenize_funcs(funcs):\n",
    "    oneword = re.compile(r\"^[a-z][a-z0-9]+|[A-Z][A-Z0-9]+$\")\n",
    "    difCase = re.compile(r\".+?(?:(?<=[a-z])(?=[A-Z])|(?<=[A-Z])(?=[A-Z][a-z])|$)\")\n",
    "    under_scores_split = re.compile(r\"_\")\n",
    "\n",
    "    tokenized_funcs = []\n",
    "    for f in funcs:\n",
    "        if oneword.fullmatch(f):\n",
    "            tokenized_funcs.append([f])\n",
    "        elif \"_\" in f:\n",
    "            tokenized_funcs.append([w for w in under_scores_split.split(f) if w])\n",
    "        else:\n",
    "            tokenized_funcs.append([w.group(0) for w in difCase.finditer(f) if w.group(0)])\n",
    "    return tokenized_funcs\n",
    "\n",
    "tokenized_func_names = tokenize_funcs(func_names)\n",
    "name2tokens = {f: tokenized_func_names[i] for i, f in enumerate(func_names)}\n",
    "printk(func_names, nmap=name2tokens, rand=True)\n",
    "del name2tokens"
   ]
  },
  {
   "cell_type": "markdown",
   "metadata": {
    "id": "Iyht7zQJwaCT"
   },
   "source": [
    "Drop digits from tokens, convert to low register"
   ]
  },
  {
   "cell_type": "code",
   "execution_count": 5,
   "metadata": {
    "id": "Fv_spd6NwaCT",
    "executionInfo": {
     "status": "ok",
     "timestamp": 1647431419029,
     "user_tz": -180,
     "elapsed": 27,
     "user": {
      "displayName": "Владимир Телепов",
      "photoUrl": "https://lh3.googleusercontent.com/a/default-user=s64",
      "userId": "17267156791105149043"
     }
    }
   },
   "outputs": [
    {
     "name": "stdout",
     "output_type": "stream",
     "text": [
      "#funcs=3521613\n",
      "funcs:\n",
      "('heaviside', ['heaviside'])\n",
      "('fx_ibt_r9', ['fx', 'ibt', 'r'])\n",
      "('multiCursorInit', ['multi', 'cursor', 'init'])\n",
      "('extract_min_max', ['extract', 'min', 'max'])\n",
      "('rk_pwm_probe', ['rk', 'pwm', 'probe'])\n",
      "('gimp_canvas_boundary_set_property', ['gimp', 'canvas', 'boundary', 'set', 'property'])\n",
      "('nakade_point', ['nakade', 'point'])\n",
      "('xs100_read', ['xs', 'read'])\n",
      "('load_fpu', ['load', 'fpu'])\n",
      "('opexe_2', ['opexe'])\n",
      "\n",
      "sorted:\n",
      "('A', ['a'])\n",
      "('A', ['a'])\n",
      "('A', ['a'])\n",
      "('A', ['a'])\n",
      "('A', ['a'])\n",
      "('A', ['a'])\n",
      "('A', ['a'])\n",
      "('A', ['a'])\n",
      "('A', ['a'])\n",
      "('A', ['a'])\n"
     ]
    }
   ],
   "source": [
    "def drop_wrong_symbols(func_names, tokenized_func_names, func_types):\n",
    "    wrong_char = re.compile(r\"[\\d]\")\n",
    "    tokenized_func_names_ = []\n",
    "    func_types_ = []\n",
    "    func_names_ = []\n",
    "    for i, (name, tokenized_name, types) in enumerate(zip(func_names, tokenized_func_names, func_types)):\n",
    "        processed_tokens = [wrong_char.sub(\"\", token).lower() for token in tokenized_name if wrong_char.sub(\"\", token)]\n",
    "        if processed_tokens:\n",
    "            tokenized_func_names_.append(processed_tokens)\n",
    "            func_types_.append(types)\n",
    "            func_names_.append(name)\n",
    "\n",
    "    return func_names_, tokenized_func_names_, func_types_\n",
    "\n",
    "func_names, tokenized_func_names, func_types = drop_wrong_symbols(func_names, tokenized_func_names, func_types)\n",
    "name2tokens = {f: tokenized_func_names[i] for i, f in enumerate(func_names)}\n",
    "printk(func_names, nmap=name2tokens, rand=True)\n",
    "del name2tokens"
   ]
  },
  {
   "cell_type": "markdown",
   "metadata": {
    "id": "MPK5bQoxwaCU"
   },
   "source": [
    "Split concatenated words to separate tokens"
   ]
  },
  {
   "cell_type": "code",
   "execution_count": 6,
   "metadata": {
    "pycharm": {
     "name": "#%%\n"
    },
    "id": "we98xI_vwaCU",
    "executionInfo": {
     "status": "ok",
     "timestamp": 1647431419029,
     "user_tz": -180,
     "elapsed": 26,
     "user": {
      "displayName": "Владимир Телепов",
      "photoUrl": "https://lh3.googleusercontent.com/a/default-user=s64",
      "userId": "17267156791105149043"
     }
    }
   },
   "outputs": [
    {
     "name": "stdout",
     "output_type": "stream",
     "text": [
      "('ccfileutils', ['ccfileutils'])\n",
      "('setendframeindex', ['setendframeindex'])\n",
      "('inneractionframe', ['inner', 'action', 'frame'])\n",
      "('setsearchresolutionsorder', ['set', 'search', 'resolutions', 'order'])\n",
      "('dynamicmeminit', ['dynamicmeminit'])\n",
      "('wakeupiodisableglobal', ['wakeupiodisable', 'global'])\n",
      "('getinit', ['get', 'init'])\n",
      "('getinitz', ['get', 'init', 'z'])\n",
      "\n",
      "#funcs=3521613\n",
      "funcs:\n",
      "('bench_neq_scalar', ['bench', 'neq', 'scalar'])\n",
      "('validate_chest_type', ['validate', 'chest', 'type'])\n",
      "('object_get_prop_int8', ['object', 'get', 'prop', 'int'])\n",
      "('snic_disc_start', ['snic', 'disc', 'start'])\n",
      "('Object_isPrototypeOf', ['object', 'isprototypeof'])\n",
      "('ll_conn_iso_group_acquire', ['ll', 'conn', 'iso', 'group', 'acquire'])\n",
      "('into_string', ['into', 'string'])\n",
      "('set_i2sstd', ['set', 'is', 'std'])\n",
      "('level', ['level'])\n",
      "('add_flash_partition', ['add', 'flash', 'partition'])\n",
      "\n",
      "sorted:\n",
      "('A', ['a'])\n",
      "('A', ['a'])\n",
      "('A', ['a'])\n",
      "('A', ['a'])\n",
      "('A', ['a'])\n",
      "('A', ['a'])\n",
      "('A', ['a'])\n",
      "('A', ['a'])\n",
      "('A', ['a'])\n",
      "('A', ['a'])\n"
     ]
    }
   ],
   "source": [
    "def create_segment_func(tokenized_func_names, c=1, base=1/26, prior=1e-8):\n",
    "    word2count = collections.Counter(itertools.chain(*tokenized_func_names))\n",
    "    total_num_words = sum(word2count.values())\n",
    "    word2prob1 = {k: v / total_num_words for k, v in word2count.items()}\n",
    "    ones_length2count = collections.Counter(map(len, (word for word, count in word2count.items() if count == 1)))\n",
    "    ones_longest = max(ones_length2count)\n",
    "    ones_num_words = sum(ones_length2count.values())\n",
    "\n",
    "    # smoothed probability\n",
    "    def prob(word):\n",
    "        unseen_estimation = ones_length2count[len(word)] / ones_num_words if len(word) in ones_length2count \\\n",
    "            else ones_length2count[ones_longest] / ones_num_words * base ** (len(word) - ones_longest) \\\n",
    "            if len(word) > ones_longest else base ** len(word)\n",
    "        return word2prob1[word] if word in word2prob1 else prior * unseen_estimation\n",
    "\n",
    "    with open(\"prob.pickle\", \"wb\") as f:\n",
    "        pickle.dump(prob, f)\n",
    "\n",
    "    def split(word, start=1, end=20):\n",
    "        return ((word[:i], word[i:]) for i in range(start, min(len(word) + 1, end)))\n",
    "\n",
    "    @functools.lru_cache(maxsize=10000)\n",
    "    def segment(word, maxlen=500):\n",
    "        if not word:\n",
    "            return []\n",
    "        if len(word) > maxlen:\n",
    "            return segment(word[:maxlen]) + segment(word[maxlen:])\n",
    "        candidates = ([first] + segment(remaining) for first, remaining in split(word))\n",
    "        return max(candidates, key=lambda x: functools.reduce(operator.__mul__, map(prob, x), 1))\n",
    "    return segment\n",
    "\n",
    "def segmentize_corpus(tokenized_func_names, segmenter):\n",
    "    tokenized_func_names = [list(itertools.chain(*(segmenter(token) for token in tokens)))\n",
    "                            for tokens in tokenized_func_names]\n",
    "    return tokenized_func_names\n",
    "\n",
    "segmenter = create_segment_func(tokenized_func_names)\n",
    "words = [\"ccfileutils\", \"setendframeindex\", \"inneractionframe\", \"setsearchresolutionsorder\",\n",
    "         \"dynamicmeminit\", \"wakeupiodisableglobal\", \"getinit\", \"getinitz\"]\n",
    "print(*((word, segmenter(word)) for word in words), \"\", sep='\\n')\n",
    "tokenized_func_names = segmentize_corpus(tokenized_func_names, segmenter)\n",
    "\n",
    "name2tokens = {f: tokenized_func_names[i] for i, f in enumerate(func_names)}\n",
    "printk(func_names, nmap=name2tokens, rand=True)\n",
    "del words, name2tokens"
   ]
  },
  {
   "cell_type": "markdown",
   "source": [
    "Lemmatize tokens"
   ],
   "metadata": {
    "collapsed": false
   }
  },
  {
   "cell_type": "code",
   "execution_count": 7,
   "metadata": {
    "id": "V_0_B4NmwaCV",
    "executionInfo": {
     "status": "ok",
     "timestamp": 1647431419031,
     "user_tz": -180,
     "elapsed": 23,
     "user": {
      "displayName": "Владимир Телепов",
      "photoUrl": "https://lh3.googleusercontent.com/a/default-user=s64",
      "userId": "17267156791105149043"
     }
    }
   },
   "outputs": [
    {
     "name": "stdout",
     "output_type": "stream",
     "text": [
      "#uniq tokens before lemmatizing 215689 \n",
      "\n",
      "#funcs=3521613\n",
      "funcs:\n",
      "('get_cats', ['get', 'cat'])\n",
      "('lines_from_files', ['line', 'from', 'file'])\n",
      "('example_convolution', ['example', 'convolution'])\n",
      "('new', ['new'])\n",
      "('udf_allocv', ['udf', 'alloc', 'v'])\n",
      "('call_sub_orchestrator', ['call', 'sub', 'orchestrator'])\n",
      "('CountTerminators', ['count', 'terminator'])\n",
      "('move_next_pile_of_type', ['move', 'next', 'pile', 'of', 'type'])\n",
      "('download_ipget', ['download', 'ip', 'get'])\n",
      "('dggevx', ['dggevx'])\n",
      "\n",
      "sorted:\n",
      "('A', ['a'])\n",
      "('A', ['a'])\n",
      "('A', ['a'])\n",
      "('A', ['a'])\n",
      "('A', ['a'])\n",
      "('A', ['a'])\n",
      "('A', ['a'])\n",
      "('A', ['a'])\n",
      "('A', ['a'])\n",
      "('A', ['a'])\n",
      "\n",
      "#uniq tokens after lemmatizing 209084 \n",
      "\n"
     ]
    }
   ],
   "source": [
    "print(\"#uniq tokens before lemmatizing\", len(set(itertools.chain(*tokenized_func_names))), \"\\n\")\n",
    "\n",
    "def lemmatize_corpus(tokenized_func_names):\n",
    "    nlp = spacy.load(\"en_core_web_sm\", disable=[\"parser\", \"ner\"])\n",
    "    lengths = np.cumsum([0] + list(map(len, tokenized_func_names)))\n",
    "    flat_tokens = list(itertools.chain(*tokenized_func_names))\n",
    "    doc = spacy.tokens.Doc(nlp.vocab, words=flat_tokens)\n",
    "    tokenized_func_names = [[token.lemma_ for token in doc[lengths[i - 1]: lengths[i]]]\n",
    "                            for i in range(1, len(tokenized_func_names) + 1)]\n",
    "    return tokenized_func_names\n",
    "\n",
    "tokenized_func_names = lemmatize_corpus(tokenized_func_names)\n",
    "name2tokens = {f: tokenized_func_names[i] for i, f in enumerate(func_names)}\n",
    "printk(func_names, nmap=name2tokens, rand=True)\n",
    "\n",
    "print(\"\\n#uniq tokens after lemmatizing\", len(set(itertools.chain(*tokenized_func_names))), \"\\n\")\n",
    "del name2tokens"
   ]
  },
  {
   "cell_type": "markdown",
   "metadata": {
    "id": "7m2XudOkwaCV"
   },
   "source": [
    "Drop rare or uninformative tokens"
   ]
  },
  {
   "cell_type": "code",
   "execution_count": 8,
   "outputs": [
    {
     "name": "stdout",
     "output_type": "stream",
     "text": [
      "dict size: 208807\n",
      "\n",
      "dict:\n",
      "('get', 270127)\n",
      "('set', 180381)\n",
      "('test', 138363)\n",
      "('init', 80060)\n",
      "('dissect', 79935)\n",
      "('read', 65969)\n",
      "('new', 62397)\n",
      "('add', 57518)\n",
      "('write', 56774)\n",
      "('create', 46703)\n",
      "\n",
      "reversed dict:\n",
      "('getmaxdate', 1)\n",
      "('fastfixmul', 1)\n",
      "('initiatemasserase', 1)\n",
      "('getexmodeline', 1)\n",
      "('vhf', 1)\n",
      "('busmd', 1)\n",
      "('subaddresses', 1)\n",
      "('cuneiform', 1)\n",
      "('hsei', 1)\n",
      "('enclosingpolygons', 1)\n"
     ]
    },
    {
     "data": {
      "text/plain": "<Figure size 432x288 with 1 Axes>",
      "image/png": "[encoded data removed]"
     },
     "metadata": {
      "needs_background": "light"
     },
     "output_type": "display_data"
    },
    {
     "name": "stdout",
     "output_type": "stream",
     "text": [
      "3435010\n"
     ]
    }
   ],
   "source": [
    "custom_stop_words = {\n",
    "    \"return\", \"use\", \"value\", \"let\", \"mut\", \"type\", \"sync\", \"ex\", \"mc\", \"sm\", \"cm\", \"global\",\n",
    "    \"tuple\", \"call\", \"crust\", \"pointer\", \"vr\", \"datum\", \"fill\", \"ref\", \"simple\",\n",
    "    \"default\", \"byte\", \"buff\", \"null\", \"numb\", \"slice\", \"tx\", \"ptr\", \"ext\", \"content\", \"cairo\",\n",
    "    \"update\", \"bite\", \"map\", \"int\", \"object\", \"obj\", \"type\", \"bindgen\", \"const\", \"constant\",\n",
    "    \"one\", \"run\", \"change\", \"make\", \"op\", \"entry\", \"true\", \"end\", \"next\", \"group\", \"scale\",\n",
    "    \"cmd\", \"point\", \"float\", \"apply\", \"control\", \"without\", \"generic\", \"template\",\n",
    "    \"main\", \"method\", \"range\", \"command\", \"item\", \"bit\", \"empty\", \"current\", \"target\", \"fix\",\n",
    "    \"offset\", \"zero\", \"result\", \"double\", \"visit\", \"option\", \"opt\", \"rx\", \"try\", \"internal\",\n",
    "    \"prepare\", \"reference\", \"char\", \"execute\", \"exec\", \"emit\", \"power\", \"element\", \"local\",\n",
    "    \"work\", \"raw\", \"api\", \"context\", \"ctx\", \"self\", \"proc\", \"ctrl\", \"last\", \"per\", \"need\",\n",
    "    \"class\", \"struct\", \"two\", \"iter\", \"base\", \"impl\", \"ic\", \"non\", \"var\", \"single\", \"st\",\n",
    "    \"implement\", \"variant\", \"\\ufeff1\", \"require\", \"feature\", \"mk\", \"level\", \"enum\", \"long\",\n",
    "    \"argument\", \"args\", \"arg\", \"must\", \"brief\", \"note\", \"example\", \"pass\", \"much\", \"none\", \n",
    "    \"may\", \"structure\", \"foo\", \"uint\", \"integer\", \"bool\", \"hex\", \"dt\", \"app\", \"instr\", \"inst\",\n",
    "    \"lead\", \"slot\", \"rt\"\n",
    "}\n",
    "stop_words = set(stopwords.words(\"english\")) | custom_stop_words\n",
    "\n",
    "def prune_vocabulary(func_names, tokenized_func_names, stop_words, max_ct=1e22, min_ct=1, min_len=2, max_len=20):\n",
    "    word2count = collections.Counter(itertools.chain(*tokenized_func_names))\n",
    "    word2count = {k: v for k, v in sorted(word2count.items(), key=lambda item: item[1], reverse=True)\n",
    "                  if min_ct <= v <= max_ct and min_len <= len(k) <= max_len and k not in stop_words}\n",
    "    vocab_low_to_high = {k: v for k, v in sorted(word2count.items(), key=lambda item: item[1], reverse=False)}\n",
    "    print(f\"dict size: {len(word2count)}\\n\\ndict:\")\n",
    "    print(*((k, v) for _, (k, v) in zip(range(10), word2count.items())), \"\\nreversed dict:\", sep='\\n')\n",
    "    print(*((k, v) for _, (k, v) in zip(range(10), vocab_low_to_high.items())), sep='\\n')\n",
    "\n",
    "    word2ind = {w: i for w, i in zip(word2count.keys(), itertools.count())}\n",
    "    ind2count = {word2ind[w]: freq for (w, freq), _ in zip(word2count.items(), range(1000))}\n",
    "    plt.bar(ind2count.keys(), ind2count.values())\n",
    "    plt.show()\n",
    "\n",
    "    tokenized_func_names_ = []\n",
    "    func_names_ = []\n",
    "    for i, (name, tokenized_name) in enumerate(zip(func_names, tokenized_func_names)):\n",
    "        processed_tokens = [token for token in tokenized_name if token in word2count]\n",
    "        if processed_tokens:\n",
    "            tokenized_func_names_.append(processed_tokens)\n",
    "            func_names_.append(name)\n",
    "\n",
    "    return func_names_, tokenized_func_names_\n",
    "\n",
    "func_names, tokenized_func_names = prune_vocabulary(func_names, tokenized_func_names, stop_words)\n",
    "print(len(tokenized_func_names))"
   ],
   "metadata": {
    "pycharm": {
     "name": "#%%\n"
    },
    "id": "4KhoTr_6waCW",
    "colab": {
     "base_uri": "https://localhost:8080/"
    },
    "executionInfo": {
     "status": "ok",
     "timestamp": 1647436744719,
     "user_tz": -180,
     "elapsed": 14478,
     "user": {
      "displayName": "Владимир Телепов",
      "photoUrl": "https://lh3.googleusercontent.com/a/default-user=s64",
      "userId": "17267156791105149043"
     }
    },
    "outputId": "b99e0ce6-d4a1-4625-da34-f19b6c5d92fc"
   }
  },
  {
   "cell_type": "code",
   "source": [
    "classes = {\n",
    "    \"destroy\": [\n",
    "        \"clean\", \"cleanup\", \"clear\", \"remove\", \"drop\", \"reset\", \"free\", \"shutdown\", \"bite\", \"finish\", \"erase\",\n",
    "        \"disable\", \"delete\", \"del\", \"destroy\", \"stop\", \"release\", \"leave\", \"exit\", \"sub\", \"unregister\", \"cancel\",\n",
    "        \"suspend\", \"abort\", \"deinit\", \"finalize\", \"escape\", \"gc\"\n",
    "    ],\n",
    "    \"init\": [\n",
    "        \"init\", \"initialize\", \"activate\", \"new\", \"register\", \"reg\", \"create\", \"gen\", \"generate\", \"start\", \"enable\",\n",
    "        \"setup\", \"build\", \"begin\", \"resume\", \"construct\", \"install\", \"def\", \"define\", \"refresh\", \"fini\", \"decl\"\n",
    "    ],\n",
    "    \"get\": [\n",
    "        \"get\", \"take\", \"pop\", \"select\", \"attr\", \"attribute\", \"field\", \"param\", \"parameter\", \"params\",\n",
    "        \"property\", \"prop\"\n",
    "    ],\n",
    "    \"rrc\": [\n",
    "        \"dissect\", \"lte\", \"rrc\", \"pdu\", \"nr\", \"cell\", \"nbap\", \"rnsap\", \"srsran\"\n",
    "    ],\n",
    "    \"log\": [\n",
    "        \"log\", \"config\", \"cfg\", \"conf\", \"configure\", \"dump\", \"store\", \"commit\", \"save\", \"specify\", \"setting\", \"env\",\n",
    "        \"report\"\n",
    "    ],\n",
    "    \"test\": [\n",
    "        \"test\", \"detect\", \"layout\", \"bench\", \"validate\", \"check\", \"verify\", \"complete\", \"probe\", \"match\", \"valid\",\n",
    "        \"control\", \"success\", \"fail\", \"invalid\", \"debug\", \"br\", \"trace\"\n",
    "    ],\n",
    "    \"database\": [\n",
    "        \"sqlite\", \"query\", \"table\", \"db\", \"schema\", \"record\", \"transaction\"\n",
    "    ],\n",
    "    \"network\": [\n",
    "        \"network\", \"net\", \"send\", \"snd\", \"recv\", \"rcv\", \"receive\", \"buf\", \"buff\", \"request\", \"req\", \"title\",\n",
    "        \"message\", \"msg\", \"packet\", \"header\", \"hdr\", \"link\", \"channel\", \"page\", \"port\", \"fetch\", \"client\", \"connect\",\n",
    "        \"server\", \"udp\", \"http\", \"ngx\", \"pdu\", \"response\", \"address\", \"addr\", \"ip\", \"bind\", \"attach\", \"detach\",\n",
    "        \"socket\", \"sock\", \"host\", \"async\", \"session\", \"tcp\", \"ack\", \"post\", \"poll\", \"bridge\", \"proto\", \"service\",\n",
    "        \"peer\", \"url\", \"ie\", \"tls\", \"ipv\", \"vlan\", \"load\", \"accept\", \"proxy\", \"connection\", \"conn\", \"disconnect\",\n",
    "        \"reply\", \"body\", \"reflect\", \"ieee\", \"src\", \"dst\", \"protocol\", \"policy\", \"dispatch\", \"dns\", \"org\", \"web\",\n",
    "        \"submit\", \"remote\", \"rpc\", \"grpc\"\n",
    "    ],\n",
    "    \"file\": [\n",
    "        \"read\", \"reader\", \"write\", \"writer\", \"io\", \"file\", \"filename\", \"fd\", \"open\", \"close\", \"pipe\", \"seek\", \"doc\",\n",
    "        \"desc\", \"descriptor\"\n",
    "    ],\n",
    "    \"string\": [\n",
    "        \"parse\", \"parser\", \"str\", \"string\", \"text\", \"encode\", \"encoder\", \"enc\", \"decode\", \"pack\", \"unpack\",\n",
    "        \"input\", \"line\", \"filter\", \"reg\", \"json\", \"xml\", \"pdf\", \"replace\", \"utf\", \"font\", \"split\", \"pattern\"\n",
    "    ],\n",
    "    \"format\": [\n",
    "        \"convert\", \"to\", \"format\", \"fmt\", \"serialize\", \"deserialize\", \"transform\", \"normalize\", \"wrap\", \"align\",\n",
    "        \"translate\", \"clip\"\n",
    "    ],\n",
    "    \"compress\": [\n",
    "        \"compress\", \"compression\", \"compressor\", \"gzip\", \"zip\", \"bz\", \"gz\", \"tar\", \"xz\", \"archive\", \"lzma\", \"extract\",\n",
    "        \"metadata\"\n",
    "    ],\n",
    "    \"error\": [\n",
    "        \"error\", \"assert\", \"eq\", \"warn\", \"warning\", \"message\", \"msg\", \"err\", \"handle\", \"parse\", \"syntax\", \"trigger\"\n",
    "    ],\n",
    "    \"device\": [\n",
    "        \"device\", \"dev\", \"dma\", \"dm\", \"channel\", \"ioctl\", \"driver\", \"drv\", \"pci\", \"pcie\", \"usb\", \"gpio\", \"phy\", \"mac\",\n",
    "        \"intel\", \"mlxsw\", \"ib\", \"hal\", \"bus\", \"adc\", \"pcm\", \"tegra\", \"eth\", \"rte\", \"mesh\", \"dp\", \"spi\", \"sp\",\n",
    "        \"amdgpu\", \"lpfc\", \"rtl\", \"sd\", \"arm\", \"pin\", \"fw\", \"omap\", \"flash\", \"mouse\", \"disk\", \"partition\", \"ixgbe\",\n",
    "        \"ble\", \"bt\", \"native\", \"endpoint\", \"arch\"\n",
    "    ],\n",
    "    \"os\": [\n",
    "        \"system\", \"sys\", \"os\", \"xfs\", \"nfs\", \"btrfs\", \"mount\", \"mkdir\", \"kernel\", \"engine\", \"inode\",\n",
    "        \"core\", \"basic\", \"dfs\"\n",
    "    ],\n",
    "    \"parallel\": [\n",
    "        \"thread\", \"process\", \"cpu\", \"hw\", \"spawn\", \"schedule\", \"scheduler\", \"task\", \"job\", \"batch\", \"worker\",\n",
    "        \"master\", \"slave\"\n",
    "    ],\n",
    "    \"async\": [\n",
    "        \"block\", \"lock\", \"mutex\", \"unlock\", \"async\"\n",
    "    ],\n",
    "    \"signal\": [\n",
    "        \"handle\", \"signal\", \"interrupt\", \"handler\", \"irq\", \"intr\", \"hook\", \"cb\", \"callback\", \"action\"\n",
    "    ],\n",
    "    \"event\": [\n",
    "        \"event\", \"state\", \"mode\", \"mod\", \"wait\", \"ready\", \"idle\", \"complete\", \"status\", \"code\",\n",
    "        \"flag\", \"track\", \"notify\", \"atomic\", \"pend\", \"monitor\", \"handle\"\n",
    "    ],\n",
    "    \"time\": [\n",
    "        \"time\", \"timer\", \"clock\", \"clk\", \"timeout\", \"wait\", \"rtc\", \"rte\", \"delay\", \"ms\", \"sec\", \"date\", \"sleep\",\n",
    "        \"tick\", \"timestamp\", \"duration\"\n",
    "    ],\n",
    "    \"copy\": [\n",
    "        \"copy\", \"cp\", \"move\", \"swap\", \"merge\", \"clone\", \"transfer\"\n",
    "    ],\n",
    "    \"path\": [\n",
    "        \"path\", \"file\", \"dir\", \"directory\", \"root\", \"child\", \"parent\"\n",
    "    ],\n",
    "    \"graphic\": [\n",
    "        \"show\", \"draw\", \"paint\", \"print\", \"output\", \"window\", \"win\", \"display\", \"frame\", \"flush\", \"video\", \"image\",\n",
    "        \"stream\", \"render\", \"color\", \"gimp\", \"tool\", \"gl\", \"bound\", \"box\", \"gui\", \"view\", \"cursor\", \"button\",\n",
    "        \"ui\", \"screen\", \"interface\", \"rgb\", \"menu\", \"texture\", \"pixel\", \"gfx\", \"widget\", \"shader\", \"ff\", \"wm\",\n",
    "        \"style\", \"rect\", \"msa\", \"rotate\", \"angle\", \"degree\", \"deg\", \"snapshot\", \"scroll\", \"codec\"\n",
    "    ],\n",
    "    \"help\": [\n",
    "        \"info\", \"information\", \"help\", \"helper\", \"lookup\", \"version\", \"support\", \"stats\", \"stat\", \"serial\",\n",
    "        \"description\"\n",
    "    ],\n",
    "    \"matrix\": [\n",
    "        \"matrix\", \"mm\", \"mul\", \"mask\", \"row\", \"col\", \"column\", \"vector\", \"vec\", \"height\", \"width\"\n",
    "    ],\n",
    "    \"container\": [\n",
    "        \"queue\", \"list\", \"array\", \"vector\", \"vec\", \"cache\", \"heap\", \"fifo\", \"bitmap\", \"max\", \"min\",\n",
    "        \"sum\", \"contain\", \"len\", \"length\", \"find\", \"search\", \"pattern\", \"match\", \"scan\", \"num\", \"size\", \"common\",\n",
    "        \"position\", \"pos\", \"resize\", \"add\", \"insert\", \"put\", \"push\", \"append\", \"stack\", \"counter\", \"container\", \"count\",\n",
    "        \"iterator\", \"iter\", \"reverse\"\n",
    "    ],\n",
    "    \"resource\": [\n",
    "        \"mem\", \"memory\", \"ram\", \"space\", \"alloc\", \"allocate\", \"allocation\", \"free\", \"resource\", \"buf\", \"buffer\",\n",
    "        \"chunk\", \"volume\", \"capacity\", \"limit\", \"pool\", \"storage\", \"usage\", \"available\"\n",
    "    ],\n",
    "    \"sort\": [\n",
    "        \"sort\", \"order\", \"dissect\", \"loop\", \"seq\", \"skip\", \"sequence\"\n",
    "    ],\n",
    "    \"security\": [\n",
    "        \"hash\", \"sign\", \"signature\", \"digest\", \"resolve\", \"crypto\", \"sha\", \"encrypt\", \"decrypt\", \"aes\", \"crypt\", \"md\",\n",
    "        \"cipher\", \"cert\", \"ssl\", \"auth\", \"password\", \"secure\", \"key\", \"account\", \"login\", \"user\", \"acl\", \n",
    "        \"profile\", \"allow\", \"private\", \"secret\", \"public\", \"access\", \"crc\", \"safe\"\n",
    "    ],\n",
    "    \"id\": [\n",
    "        \"key\", \"id\", \"find\", \"index\", \"idx\", \"token\", \"tag\"\n",
    "    ],\n",
    "    \"eq\": [\n",
    "        \"match\", \"eq\", \"equal\", \"compare\", \"cmp\", \"diff\", \"patch\", \"comp\"\n",
    "    ],\n",
    "    \"calc\": [\n",
    "        \"compute\", \"calc\", \"calculate\", \"eval\", \"expression\", \"expr\"\n",
    "    ],\n",
    "    \"audio\": [\n",
    "        \"audio\", \"capture\", \"volume\", \"codec\", \"hdmi\", \"sound\", \"snd\", \"radio\", \"vst\", \"midi\", \"track\", \"preset\", \"mic\",\n",
    "        \"stream\", \"channel\"\n",
    "    ],\n",
    "    \"rand\": [\n",
    "        \"random\", \"rand\", \"rng\", \"seed\", \"generate\", \"gen\", \"uniform\", \"sample\"\n",
    "    ],\n",
    "    \"library\": [\n",
    "        \"export\", \"lib\", \"library\", \"symbol\", \"dyn\", \"fun\", \"fn\", \"func\", \"function\", \"import\", \"std\",\n",
    "        \"dynamic\", \"module\", \"plugin\", \"package\"\n",
    "    ],\n",
    "    \"vm\": [\n",
    "        \"vm\", \"kvm\", \"vcpu\", \"virtio\", \"virtual\", \"emulate\", \"kvmppc\", \"qemu\"\n",
    "    ],\n",
    "    \"graph\": [\n",
    "        \"graph\", \"edge\", \"node\", \"vertex\", \"link\", \"neighbor\", \"tree\", \"child\", \"parent\"\n",
    "    ],\n",
    "    \"intrinsic\": [\n",
    "        \"mm\", \"epi\", \"epu\", \"intr\", \"maskz\", \"anybitmemory\", \"xmmregister\", \"ymm\", \"avx\"\n",
    "    ],\n",
    "    \"speed\":  [\n",
    "        \"speed\", \"perf\", \"rate\", \"fast\", \"velocity\", \"performance\", \"quick\",\n",
    "    ],\n",
    "    \"location\": [\n",
    "        \"location\", \"distance\", \"position\", \"pos\", \"place\", \"coord\", \"region\"\n",
    "    ],\n",
    "    \"name\": [\n",
    "        \"name\", \"rename\", \"alias\"\n",
    "    ],\n",
    "    \"tmp\": [\n",
    "        \"temp\", \"tmp\", \"temporary\"\n",
    "    ],\n",
    "    \"assign\": [\n",
    "        \"label\", \"assign\", \"mark\", \"cluster\", \"segment\", \"set\"\n",
    "    ],\n",
    "    \"term\": [\n",
    "        \"term\", \"terminal\", \"tty\", \"sh\", \"shell\", \"cli\", \"tui\", \"console\", \"uart\"\n",
    "    ],\n",
    "    \"vcs\": [\n",
    "        \"vcs\", \"svn\", \"git\", \"github\", \"branch\", \"repository\", \"repo\", \"merge\", \"commit\"\n",
    "    ],\n",
    "    \"bin\": [\n",
    "        \"bin\", \"binary\", \"elf\", \"pe\", \"executable\"\n",
    "    ]\n",
    "}\n",
    "\n",
    "if \"class2funcs\" not in locals().keys():\n",
    "    class2funcs = {c: [] for c in classes}\n",
    "\n",
    "print(len(classes))"
   ],
   "metadata": {
    "id": "NlxL6kc1eGfg",
    "executionInfo": {
     "status": "ok",
     "timestamp": 1647431466007,
     "user_tz": -180,
     "elapsed": 780,
     "user": {
      "displayName": "Владимир Телепов",
      "photoUrl": "https://lh3.googleusercontent.com/a/default-user=s64",
      "userId": "17267156791105149043"
     }
    },
    "colab": {
     "base_uri": "https://localhost:8080/"
    },
    "outputId": "2bbed24c-c3b4-46d5-dc56-010861473246"
   },
   "execution_count": 9,
   "outputs": [
    {
     "name": "stdout",
     "output_type": "stream",
     "text": [
      "46\n"
     ]
    }
   ]
  },
  {
   "cell_type": "code",
   "source": [
    "def match(k, l):\n",
    "    return k >= 0.5 * l\n",
    "\n",
    "\n",
    "def classify(func_names, tokenized_func_names, classes, class2funcs):\n",
    "    tokenized_func_names_ = []\n",
    "    func_names_ = []\n",
    "    for name, tokenized_name in zip(func_names, tokenized_func_names):\n",
    "        scores = {c: 0 for c in classes}\n",
    "        for c, cl in classes.items():\n",
    "            for tok in tokenized_name:\n",
    "                if tok in cl:\n",
    "                    scores[c] += 1\n",
    "\n",
    "        scores = {k: v for k, v in sorted(scores.items(), key=lambda item: item[1], reverse=True)}\n",
    "        candidates = []\n",
    "        cand_score = 0\n",
    "        for c, sc in scores.items():\n",
    "            is_match = match(sc, len(tokenized_name))\n",
    "            if is_match and len(candidates) == 0:\n",
    "                cand_score = sc\n",
    "                candidates.append(c)\n",
    "            else:\n",
    "                if is_match and sc == cand_score:\n",
    "                    candidates.append(c)\n",
    "                else:\n",
    "                    break\n",
    "\n",
    "        if len(candidates) == 0:\n",
    "            tokenized_func_names_.append(tokenized_name) \n",
    "            func_names_.append(name)\n",
    "        else:\n",
    "            c = random.choice(candidates)\n",
    "            class2funcs[c].append((name, tokenized_name))\n",
    "\n",
    "    return func_names_, tokenized_func_names_\n",
    "\n",
    "func_names, tokenized_func_names = classify(func_names, tokenized_func_names, classes, class2funcs)\n",
    "print(len(tokenized_func_names))"
   ],
   "metadata": {
    "id": "2o2G46NaOMGT",
    "colab": {
     "base_uri": "https://localhost:8080/"
    },
    "executionInfo": {
     "status": "ok",
     "timestamp": 1647431657216,
     "user_tz": -180,
     "elapsed": 191212,
     "user": {
      "displayName": "Владимир Телепов",
      "photoUrl": "https://lh3.googleusercontent.com/a/default-user=s64",
      "userId": "17267156791105149043"
     }
    },
    "outputId": "28dc1e5c-ed52-4300-ad35-00bc4e47433e"
   },
   "execution_count": 10,
   "outputs": [
    {
     "name": "stdout",
     "output_type": "stream",
     "text": [
      "2038035\n"
     ]
    }
   ]
  },
  {
   "cell_type": "code",
   "source": [
    "print(*[(c, len(f)) for c, f in class2funcs.items()], sep=\"\\n\")"
   ],
   "metadata": {
    "colab": {
     "base_uri": "https://localhost:8080/"
    },
    "id": "5bB7eBI1dsV6",
    "executionInfo": {
     "status": "ok",
     "timestamp": 1647431657218,
     "user_tz": -180,
     "elapsed": 21,
     "user": {
      "displayName": "Владимир Телепов",
      "photoUrl": "https://lh3.googleusercontent.com/a/default-user=s64",
      "userId": "17267156791105149043"
     }
    },
    "outputId": "ec4f6753-d840-411b-83e7-02b17913e411",
    "pycharm": {
     "name": "#%%\n"
    }
   },
   "execution_count": 11,
   "outputs": [
    {
     "name": "stdout",
     "output_type": "stream",
     "text": [
      "('destroy', 67782)\n",
      "('init', 123173)\n",
      "('get', 88563)\n",
      "('rrc', 25665)\n",
      "('log', 22953)\n",
      "('test', 99206)\n",
      "('database', 10299)\n",
      "('network', 119825)\n",
      "('file', 72458)\n",
      "('string', 70026)\n",
      "('format', 18441)\n",
      "('compress', 5522)\n",
      "('error', 26895)\n",
      "('device', 31137)\n",
      "('os', 9123)\n",
      "('parallel', 17180)\n",
      "('async', 10853)\n",
      "('signal', 24571)\n",
      "('event', 32356)\n",
      "('time', 19933)\n",
      "('copy', 14073)\n",
      "('path', 17324)\n",
      "('graphic', 72890)\n",
      "('help', 14617)\n",
      "('matrix', 14546)\n",
      "('container', 110925)\n",
      "('resource', 28498)\n",
      "('sort', 11603)\n",
      "('security', 36603)\n",
      "('id', 25627)\n",
      "('eq', 12029)\n",
      "('calc', 9343)\n",
      "('audio', 7200)\n",
      "('rand', 9896)\n",
      "('library', 15739)\n",
      "('vm', 1844)\n",
      "('graph', 12226)\n",
      "('intrinsic', 5918)\n",
      "('speed', 2299)\n",
      "('location', 4854)\n",
      "('name', 10178)\n",
      "('tmp', 745)\n",
      "('assign', 52198)\n",
      "('term', 3975)\n",
      "('vcs', 3475)\n",
      "('bin', 2389)\n"
     ]
    }
   ]
  }
 ],
 "metadata": {
  "kernelspec": {
   "display_name": "Python 3 (ipykernel)",
   "language": "python",
   "name": "python3"
  },
  "language_info": {
   "codemirror_mode": {
    "name": "ipython",
    "version": 3
   },
   "file_extension": ".py",
   "mimetype": "text/x-python",
   "name": "python",
   "nbconvert_exporter": "python",
   "pygments_lexer": "ipython3",
   "version": "3.8.10"
  },
  "colab": {
   "name": "engineering3.ipynb",
   "provenance": [],
   "collapsed_sections": []
  }
 },
 "nbformat": 4,
 "nbformat_minor": 0
}